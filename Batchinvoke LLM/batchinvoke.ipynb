{
 "cells": [
  {
   "cell_type": "code",
   "execution_count": 8,
   "metadata": {},
   "outputs": [],
   "source": [
    "from langchain_openai import ChatOpenAI\n",
    "from langchain.prompts.chat import ChatPromptTemplate\n",
    "from operator import itemgetter\n",
    "from dotenv import load_dotenv\n",
    "import os\n",
    "from langchain_community.document_loaders import PyMuPDFLoader\n",
    "from langchain_text_splitters import CharacterTextSplitter"
   ]
  },
  {
   "cell_type": "code",
   "execution_count": 9,
   "metadata": {},
   "outputs": [
    {
     "data": {
      "text/plain": [
       "True"
      ]
     },
     "execution_count": 9,
     "metadata": {},
     "output_type": "execute_result"
    }
   ],
   "source": [
    "load_dotenv()"
   ]
  },
  {
   "cell_type": "code",
   "execution_count": 10,
   "metadata": {},
   "outputs": [],
   "source": [
    "llm=ChatOpenAI(model=\"gpt-4o-mini\",temperature=0,openai_api_key=os.getenv(\"OPENAI_API_KEY\"))"
   ]
  },
  {
   "cell_type": "code",
   "execution_count": 11,
   "metadata": {},
   "outputs": [],
   "source": [
    "loader=PyMuPDFLoader(\"info.pdf\")\n",
    "docs=loader.load()\n",
    "\n",
    "text_splitter=CharacterTextSplitter(\n",
    "    separator=\"\\n\\n\",\n",
    "    chunk_size=500,\n",
    "    chunk_overlap=50,\n",
    "    length_function=len\n",
    ")\n",
    "\n",
    "chunks=[]\n",
    "for page in docs:\n",
    "    split_text=text_splitter.split_text(page.page_content)\n",
    "    chunks.extend(split_text)"
   ]
  },
  {
   "cell_type": "code",
   "execution_count": 13,
   "metadata": {},
   "outputs": [],
   "source": [
    "template = '''\n",
    "    Please provide a concise summary of the text below:\n",
    "    {text}\n",
    "'''\n",
    "\n",
    "prompt=ChatPromptTemplate.from_template(template)"
   ]
  },
  {
   "cell_type": "code",
   "execution_count": 19,
   "metadata": {},
   "outputs": [],
   "source": [
    "query_fetcher= itemgetter(\"text\")\n",
    "\n",
    "setup={\"text\":query_fetcher}"
   ]
  },
  {
   "cell_type": "code",
   "execution_count": 26,
   "metadata": {},
   "outputs": [
    {
     "data": {
      "text/plain": [
       "[AIMessage(content='FAST NUCES (National University of Computer and Emerging Sciences) is a premier university in Pakistan, established in July 2000, with five modern campuses in major cities. It is known for its high-quality education and significant impact on local industries, particularly in software development. The university supports over 11,000 students, including a substantial number of female students, and employs more than 500 skilled faculty members. FAST NUCES emphasizes professional excellence and responsible citizenship, providing a peaceful learning environment with extensive recreational facilities. It offers financial aid, including scholarships and interest-free loans, benefiting over 2,000 students. The university aims to enhance its global research recognition in the coming decade and offers a Doctor of Philosophy in Management Sciences among other programs.', additional_kwargs={'refusal': None}, response_metadata={'token_usage': {'completion_tokens': 150, 'prompt_tokens': 385, 'total_tokens': 535, 'completion_tokens_details': {'audio_tokens': None, 'reasoning_tokens': 0}, 'prompt_tokens_details': {'audio_tokens': None, 'cached_tokens': 0}}, 'model_name': 'gpt-4o-mini-2024-07-18', 'system_fingerprint': 'fp_f59a81427f', 'finish_reason': 'stop', 'logprobs': None}, id='run-f91464e5-615b-456c-9735-ad340b220b9f-0', usage_metadata={'input_tokens': 385, 'output_tokens': 150, 'total_tokens': 535, 'input_token_details': {'cache_read': 0}, 'output_token_details': {'reasoning': 0}}),\n",
       " AIMessage(content=\"The PhD program in Management aims to provide high-quality education to business scholars, focusing on culturally and globally relevant knowledge in management sciences. Offered at the Islamabad Campus, the program encourages original research that addresses significant local, national, and global challenges. Specializations include Management, Marketing, Finance, Human Resource Management, and Technology Management. Eligibility requires a Master's degree with a minimum CGPA of 3.0/4.0 and a valid NTS GAT-Subject score. Admission is based on GMAT performance, an interview, and a research proposal. The program includes six graduate-level courses, a comprehensive examination, and a requirement to publish research in reputable journals.\", additional_kwargs={'refusal': None}, response_metadata={'token_usage': {'completion_tokens': 134, 'prompt_tokens': 441, 'total_tokens': 575, 'completion_tokens_details': {'audio_tokens': None, 'reasoning_tokens': 0}, 'prompt_tokens_details': {'audio_tokens': None, 'cached_tokens': 0}}, 'model_name': 'gpt-4o-mini-2024-07-18', 'system_fingerprint': 'fp_f59a81427f', 'finish_reason': 'stop', 'logprobs': None}, id='run-1c0d1e6b-4bac-427a-9e81-03a005d498fe-0', usage_metadata={'input_tokens': 441, 'output_tokens': 134, 'total_tokens': 575, 'input_token_details': {'cache_read': 0}, 'output_token_details': {'reasoning': 0}}),\n",
       " AIMessage(content='The text outlines core courses for a management program, each worth 3 credit hours. The courses include \"Philosophy of Management Science,\" which explores the evolution of management philosophy and its relevance to mainstream theory; \"Research and Theory in Management,\" focusing on theory development, research questions, and the construction of strong theories; and \"Qualitative Methods in Management Research,\" which introduces various qualitative research methods and their underlying assumptions. Additionally, deficiency courses may be recommended for certain candidates on a case-by-case basis. The course outlines serve as broad guidelines, allowing instructors to adapt topics as needed.', additional_kwargs={'refusal': None}, response_metadata={'token_usage': {'completion_tokens': 117, 'prompt_tokens': 665, 'total_tokens': 782, 'completion_tokens_details': {'audio_tokens': None, 'reasoning_tokens': 0}, 'prompt_tokens_details': {'audio_tokens': None, 'cached_tokens': 0}}, 'model_name': 'gpt-4o-mini-2024-07-18', 'system_fingerprint': 'fp_7693ae462b', 'finish_reason': 'stop', 'logprobs': None}, id='run-fc82c739-7b83-4f97-baef-2da63eb3c7a7-0', usage_metadata={'input_tokens': 665, 'output_tokens': 117, 'total_tokens': 782, 'input_token_details': {'cache_read': 0}, 'output_token_details': {'reasoning': 0}}),\n",
       " AIMessage(content='The text outlines two courses focused on qualitative and quantitative research methods, emphasizing their significance in modern and postmodern contexts. The qualitative methods course covers various techniques such as interviews, focus groups, and discourse analysis, along with data categorization and coding, and includes labs for qualitative data analysis software. The quantitative methods course introduces advanced statistical techniques, including regression and structural equation modeling, and also features labs for quantitative data analysis software. \\n\\nAdditionally, the text describes the admission process and objectives for a Doctor of Philosophy program in Software Engineering, which requires graduate coursework, a qualifying exam, and research publication. The program aims to equip students with in-depth methodological knowledge, enabling them to conduct independent research and publish in reputable journals. Program outcomes include the ability to apply appropriate research methodologies and produce publishable research.', additional_kwargs={'refusal': None}, response_metadata={'token_usage': {'completion_tokens': 158, 'prompt_tokens': 526, 'total_tokens': 684, 'completion_tokens_details': {'audio_tokens': None, 'reasoning_tokens': 0}, 'prompt_tokens_details': {'audio_tokens': None, 'cached_tokens': 0}}, 'model_name': 'gpt-4o-mini-2024-07-18', 'system_fingerprint': 'fp_482c22a7bc', 'finish_reason': 'stop', 'logprobs': None}, id='run-05a0b1e7-3f85-4efe-8b70-e343ba2043be-0', usage_metadata={'input_tokens': 526, 'output_tokens': 158, 'total_tokens': 684, 'input_token_details': {'cache_read': 0}, 'output_token_details': {'reasoning': 0}}),\n",
       " AIMessage(content='The text outlines the requirements and processes for a PhD program, including coursework, comprehensive examinations, research work, dissertation submission, and evaluation. Students must complete six courses (18 credit hours) and a non-credit research methodology course. They must pass a comprehensive exam with a minimum CGPA of 3.0 within two years of admission. Research on the dissertation can only begin after passing the exam and having the synopsis accepted. The dissertation must feature original research, undergo a plagiarism test, and be evaluated by two foreign experts. If approved, a local committee will review the work, followed by an open defense. Additionally, students must publish at least one research paper in an HEC-approved journal to qualify for the PhD degree.', additional_kwargs={'refusal': None}, response_metadata={'token_usage': {'completion_tokens': 146, 'prompt_tokens': 408, 'total_tokens': 554, 'completion_tokens_details': {'audio_tokens': None, 'reasoning_tokens': 0}, 'prompt_tokens_details': {'audio_tokens': None, 'cached_tokens': 0}}, 'model_name': 'gpt-4o-mini-2024-07-18', 'system_fingerprint': 'fp_482c22a7bc', 'finish_reason': 'stop', 'logprobs': None}, id='run-06c75579-38dc-4778-8693-f6dcc2ba85df-0', usage_metadata={'input_tokens': 408, 'output_tokens': 146, 'total_tokens': 554, 'input_token_details': {'cache_read': 0}, 'output_token_details': {'reasoning': 0}})]"
      ]
     },
     "execution_count": 26,
     "metadata": {},
     "output_type": "execute_result"
    }
   ],
   "source": [
    "#chain = setup | prompt | llm\n",
    "chain=llm\n",
    "batch=[]\n",
    "for i in range(len(chunks)):\n",
    "    answer=prompt.invoke({\"text\":chunks[i]})\n",
    "    batch.append(answer.messages[0].content)\n",
    "\n",
    "chain.batch(batch[:5])"
   ]
  },
  {
   "cell_type": "code",
   "execution_count": 48,
   "metadata": {},
   "outputs": [],
   "source": [
    "batches=[]\n",
    "\n",
    "for i in range(len(chunks)):\n",
    "    batches.append({\"text\":chunks[i]})"
   ]
  },
  {
   "cell_type": "code",
   "execution_count": 49,
   "metadata": {},
   "outputs": [],
   "source": [
    "response=chain.batch(batches[:5])"
   ]
  },
  {
   "cell_type": "code",
   "execution_count": 50,
   "metadata": {},
   "outputs": [
    {
     "data": {
      "text/plain": [
       "[AIMessage(content='FAST NUCES (National University of Computer and Emerging Sciences) is a premier university in Pakistan, established in July 2000, with five modern campuses in major cities. It is known for its high-quality education and significant impact on local industries, particularly in software development. The university supports over 11,000 students, including a substantial number of female students, with more than 500 skilled faculty members. FAST NUCES emphasizes professional excellence and responsible citizenship, providing a peaceful learning environment and recreational facilities. It offers financial aid, including scholarships and interest-free loans, benefiting over 2,000 students. The university aims to enhance its global research recognition in the coming decade and offers a Doctor of Philosophy in Management Sciences among other programs.', additional_kwargs={'refusal': None}, response_metadata={'token_usage': {'completion_tokens': 148, 'prompt_tokens': 385, 'total_tokens': 533, 'completion_tokens_details': {'audio_tokens': None, 'reasoning_tokens': 0}, 'prompt_tokens_details': {'audio_tokens': None, 'cached_tokens': 0}}, 'model_name': 'gpt-4o-mini-2024-07-18', 'system_fingerprint': 'fp_482c22a7bc', 'finish_reason': 'stop', 'logprobs': None}, id='run-8e6caf47-7209-46b7-9594-0f291285ec06-0', usage_metadata={'input_tokens': 385, 'output_tokens': 148, 'total_tokens': 533, 'input_token_details': {'cache_read': 0}, 'output_token_details': {'reasoning': 0}}),\n",
       " AIMessage(content=\"The PhD program in Management aims to provide high-quality education to business scholars, focusing on culturally and globally relevant knowledge in management sciences. Offered at the Islamabad Campus, the program encourages original research that addresses significant local, national, and global challenges. Specializations include Management, Marketing, Finance, Human Resource Management, and Technology Management. Eligibility requires a Master's degree with a minimum CGPA of 3.0 and a valid NTS GAT-Subject score. Admission is based on GMAT performance, an interview, and a research proposal. The program includes six graduate-level courses, a comprehensive examination, and a requirement to publish research in reputable journals.\", additional_kwargs={'refusal': None}, response_metadata={'token_usage': {'completion_tokens': 130, 'prompt_tokens': 441, 'total_tokens': 571, 'completion_tokens_details': {'audio_tokens': None, 'reasoning_tokens': 0}, 'prompt_tokens_details': {'audio_tokens': None, 'cached_tokens': 0}}, 'model_name': 'gpt-4o-mini-2024-07-18', 'system_fingerprint': 'fp_482c22a7bc', 'finish_reason': 'stop', 'logprobs': None}, id='run-c0b101c3-4e55-4394-9b4a-a035bfeaba88-0', usage_metadata={'input_tokens': 441, 'output_tokens': 130, 'total_tokens': 571, 'input_token_details': {'cache_read': 0}, 'output_token_details': {'reasoning': 0}}),\n",
       " AIMessage(content='The text outlines core courses for a management program, each worth 3 credit hours. The courses include:\\n\\n1. **Philosophy of Management Science (MG601)**: This course explores the philosophical foundations of management, focusing on the evolution of management theories and their relevance to contemporary practices. It covers various perspectives such as classical organization theory, organizational culture, and postmodernism.\\n\\n2. **Research and Theory in Management (MG604)**: This course emphasizes the development of theories in management, examining how theories are constructed from research questions and the criteria for evaluating their strength. It includes topics on ontology, epistemology, and the process of linking constructs to create new theories.\\n\\n3. **Qualitative Methods in Management Research (MG589)**: This course introduces qualitative research methods and the assumptions underlying them.\\n\\nAdditionally, deficiency courses may be recommended for certain candidates on a case-by-case basis. The course outlines serve as broad guidelines, allowing instructors to adapt content as needed.', additional_kwargs={'refusal': None}, response_metadata={'token_usage': {'completion_tokens': 194, 'prompt_tokens': 665, 'total_tokens': 859, 'completion_tokens_details': {'audio_tokens': None, 'reasoning_tokens': 0}, 'prompt_tokens_details': {'audio_tokens': None, 'cached_tokens': 0}}, 'model_name': 'gpt-4o-mini-2024-07-18', 'system_fingerprint': 'fp_7693ae462b', 'finish_reason': 'stop', 'logprobs': None}, id='run-a08f1390-451e-47ad-bb4d-99548c4c657c-0', usage_metadata={'input_tokens': 665, 'output_tokens': 194, 'total_tokens': 859, 'input_token_details': {'cache_read': 0}, 'output_token_details': {'reasoning': 0}}),\n",
       " AIMessage(content='The text outlines two courses focused on qualitative and quantitative research methods, emphasizing their advantages, challenges, and applications. The qualitative methods course covers various techniques such as interviews, focus groups, and discourse analysis, along with data categorization and coding, and includes labs for qualitative data analysis software. The quantitative methods course introduces advanced statistical techniques, including regression and structural equation modeling, and also features labs for quantitative data analysis software. \\n\\nAdditionally, the text describes the admission process and objectives for a Doctor of Philosophy program in Software Engineering, which requires graduate coursework, a qualifying exam, and research publication. The program aims to equip students with in-depth methodological knowledge, the ability to conduct independent research, and the skills to publish in reputable journals.', additional_kwargs={'refusal': None}, response_metadata={'token_usage': {'completion_tokens': 145, 'prompt_tokens': 526, 'total_tokens': 671, 'completion_tokens_details': {'audio_tokens': None, 'reasoning_tokens': 0}, 'prompt_tokens_details': {'audio_tokens': None, 'cached_tokens': 0}}, 'model_name': 'gpt-4o-mini-2024-07-18', 'system_fingerprint': 'fp_482c22a7bc', 'finish_reason': 'stop', 'logprobs': None}, id='run-95c1b414-b9f5-468a-a86a-8ce192069c66-0', usage_metadata={'input_tokens': 526, 'output_tokens': 145, 'total_tokens': 671, 'input_token_details': {'cache_read': 0}, 'output_token_details': {'reasoning': 0}}),\n",
       " AIMessage(content='The text outlines the requirements and processes for a PhD program, including coursework, comprehensive examinations, research work, dissertation submission, and evaluation. Students must complete six courses (18 credit hours) and a non-credit research methodology course. They must pass a comprehensive exam with a minimum CGPA of 3.0 within two years of admission. Research on the dissertation can only begin after passing the exam and having the synopsis accepted. The dissertation must include original research, undergo a plagiarism test, and be evaluated by two foreign experts. If approved, a local committee will review the work, followed by an open defense. Additionally, students must publish at least one research paper in an HEC-approved journal to qualify for the PhD degree.', additional_kwargs={'refusal': None}, response_metadata={'token_usage': {'completion_tokens': 146, 'prompt_tokens': 408, 'total_tokens': 554, 'completion_tokens_details': {'audio_tokens': None, 'reasoning_tokens': 0}, 'prompt_tokens_details': {'audio_tokens': None, 'cached_tokens': 0}}, 'model_name': 'gpt-4o-mini-2024-07-18', 'system_fingerprint': 'fp_482c22a7bc', 'finish_reason': 'stop', 'logprobs': None}, id='run-33cfdaf4-0fb5-4e63-8489-cc4773c96d85-0', usage_metadata={'input_tokens': 408, 'output_tokens': 146, 'total_tokens': 554, 'input_token_details': {'cache_read': 0}, 'output_token_details': {'reasoning': 0}})]"
      ]
     },
     "execution_count": 50,
     "metadata": {},
     "output_type": "execute_result"
    }
   ],
   "source": [
    "response"
   ]
  },
  {
   "cell_type": "code",
   "execution_count": null,
   "metadata": {},
   "outputs": [],
   "source": []
  }
 ],
 "metadata": {
  "kernelspec": {
   "display_name": "mentorship",
   "language": "python",
   "name": "python3"
  },
  "language_info": {
   "codemirror_mode": {
    "name": "ipython",
    "version": 3
   },
   "file_extension": ".py",
   "mimetype": "text/x-python",
   "name": "python",
   "nbconvert_exporter": "python",
   "pygments_lexer": "ipython3",
   "version": "3.11.0"
  }
 },
 "nbformat": 4,
 "nbformat_minor": 2
}
